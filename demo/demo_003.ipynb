{
 "cells": [
  {
   "cell_type": "markdown",
   "metadata": {},
   "source": [
    "### 读写文件\n"
   ]
  },
  {
   "cell_type": "code",
   "execution_count": 1,
   "metadata": {},
   "outputs": [],
   "source": [
    "import torch\n",
    "from torch import nn\n",
    "from torch.nn import functional as F "
   ]
  },
  {
   "cell_type": "markdown",
   "metadata": {},
   "source": [
    "#### 加载和保存张量\n",
    "对于单个张量。直接调用load和save函数分别读写，这两个函数需要提供一个名称，save要求保存的变量作为输出"
   ]
  },
  {
   "cell_type": "code",
   "execution_count": 2,
   "metadata": {},
   "outputs": [],
   "source": [
    "x=torch.arange(4)\n",
    "torch.save(x, \"x-five\")"
   ]
  },
  {
   "cell_type": "markdown",
   "metadata": {},
   "source": [
    "将文件中存储的数据读回内存"
   ]
  },
  {
   "cell_type": "code",
   "execution_count": 3,
   "metadata": {},
   "outputs": [
    {
     "data": {
      "text/plain": [
       "tensor([0, 1, 2, 3])"
      ]
     },
     "execution_count": 3,
     "metadata": {},
     "output_type": "execute_result"
    }
   ],
   "source": [
    "x2=torch.load(\"x-five\")\n",
    "x2"
   ]
  },
  {
   "cell_type": "markdown",
   "metadata": {},
   "source": [
    "可以存储一个张量列表，将它读回内存"
   ]
  },
  {
   "cell_type": "code",
   "execution_count": 4,
   "metadata": {},
   "outputs": [
    {
     "data": {
      "text/plain": [
       "(tensor([0, 1, 2, 3]), tensor([0., 0., 0., 0.]))"
      ]
     },
     "execution_count": 4,
     "metadata": {},
     "output_type": "execute_result"
    }
   ],
   "source": [
    "y=torch.zeros(4)\n",
    "torch.save([x, y], \"x-five\")\n",
    "x2, y2=torch.load(\"x-five\")\n",
    "(x2, y2)"
   ]
  },
  {
   "cell_type": "markdown",
   "metadata": {},
   "source": [
    "我们甚至可以写入或取从字符串映射到张量的字典，当我们要读取或写入模型中的权重时，这很方便。"
   ]
  },
  {
   "cell_type": "code",
   "execution_count": 5,
   "metadata": {},
   "outputs": [
    {
     "data": {
      "text/plain": [
       "{'x': tensor([0, 1, 2, 3]), 'y': tensor([0., 0., 0., 0.])}"
      ]
     },
     "execution_count": 5,
     "metadata": {},
     "output_type": "execute_result"
    }
   ],
   "source": [
    "mydict={'x' :x, 'y': y}\n",
    "torch.save(mydict, 'mydict')\n",
    "mydict2= torch.load('mydict')\n",
    "mydict2"
   ]
  },
  {
   "cell_type": "markdown",
   "metadata": {},
   "source": [
    "#### 加载和保存模型参数"
   ]
  },
  {
   "cell_type": "code",
   "execution_count": 6,
   "metadata": {},
   "outputs": [],
   "source": [
    "\n",
    "\n",
    "class MLP(nn.Module):\n",
    "    def __init__(self) -> None:\n",
    "        super().__init__()\n",
    "        self.hidden=nn.Linear(20, 256)\n",
    "        self.output =nn.Linear(256, 10)\n",
    "\n",
    "    def forward(self, x):\n",
    "        return self.output(F.relu(self.hidden(x)))\n",
    "\n",
    "net=MLP()\n",
    "X=torch.randn(size=(2, 20))\n",
    "Y=net(X)\n",
    "\n",
    "#将模型参数存储在一个mlp.params文件中\n",
    "torch.save(net.state_dict(), 'mlp.params')"
   ]
  },
  {
   "cell_type": "markdown",
   "metadata": {},
   "source": [
    "为了恢复模型，我们实例化了原始多层感知机模型的一个备份。 这里我们不需要随机初始化模型参数，而是直接读取文件中存储的参数"
   ]
  },
  {
   "cell_type": "code",
   "execution_count": 7,
   "metadata": {},
   "outputs": [
    {
     "data": {
      "text/plain": [
       "MLP(\n",
       "  (hidden): Linear(in_features=20, out_features=256, bias=True)\n",
       "  (output): Linear(in_features=256, out_features=10, bias=True)\n",
       ")"
      ]
     },
     "execution_count": 7,
     "metadata": {},
     "output_type": "execute_result"
    }
   ],
   "source": [
    "clone=MLP()\n",
    "clone.load_state_dict(torch.load('mlp.params'))\n",
    "clone.eval()"
   ]
  },
  {
   "cell_type": "code",
   "execution_count": 8,
   "metadata": {},
   "outputs": [
    {
     "data": {
      "text/plain": [
       "tensor([[True, True, True, True, True, True, True, True, True, True],\n",
       "        [True, True, True, True, True, True, True, True, True, True]])"
      ]
     },
     "execution_count": 8,
     "metadata": {},
     "output_type": "execute_result"
    }
   ],
   "source": [
    "Y_clone=clone(X)\n",
    "Y_clone==Y"
   ]
  },
  {
   "cell_type": "markdown",
   "metadata": {},
   "source": [
    "#### GPU\n",
    "在PyTorch中，CPU和GPU可以用torch.device('cpu') 和torch.device('cuda')表示。 应该注意的是，cpu设备意味着所有物理CPU和内存， 这意味着PyTorch的计算将尝试使用所有CPU核心。 然而，gpu设备只代表一个卡和相应的显存。 如果有多个GPU，我们使用torch.device(f'cuda:{i}') 来表示第块GPU（从0开始）。 另外，cuda:0和cuda是等价的。"
   ]
  },
  {
   "cell_type": "code",
   "execution_count": 12,
   "metadata": {},
   "outputs": [
    {
     "ename": "RuntimeError",
     "evalue": "Expected one of cpu, cuda, xpu, mkldnn, opengl, opencl, ideep, hip, ve, ort, mlc, xla, lazy, vulkan, meta, hpu device type at start of device string: gpu",
     "output_type": "error",
     "traceback": [
      "\u001b[1;31m---------------------------------------------------------------------------\u001b[0m",
      "\u001b[1;31mRuntimeError\u001b[0m                              Traceback (most recent call last)",
      "\u001b[1;32mc:\\Users\\Yanmin Zhang\\Desktop\\DeepLearning\\demo\\demo_003.ipynb Cell 17\u001b[0m in \u001b[0;36m<cell line: 4>\u001b[1;34m()\u001b[0m\n\u001b[0;32m      <a href='vscode-notebook-cell:/c%3A/Users/Yanmin%20Zhang/Desktop/DeepLearning/demo/demo_003.ipynb#ch0000016?line=0'>1</a>\u001b[0m \u001b[39mimport\u001b[39;00m \u001b[39mtorch\u001b[39;00m\n\u001b[0;32m      <a href='vscode-notebook-cell:/c%3A/Users/Yanmin%20Zhang/Desktop/DeepLearning/demo/demo_003.ipynb#ch0000016?line=1'>2</a>\u001b[0m \u001b[39mfrom\u001b[39;00m \u001b[39mtorch\u001b[39;00m \u001b[39mimport\u001b[39;00m nn\n\u001b[1;32m----> <a href='vscode-notebook-cell:/c%3A/Users/Yanmin%20Zhang/Desktop/DeepLearning/demo/demo_003.ipynb#ch0000016?line=3'>4</a>\u001b[0m torch\u001b[39m.\u001b[39;49mdevice(\u001b[39m'\u001b[39;49m\u001b[39mgpu\u001b[39;49m\u001b[39m'\u001b[39;49m), torch\u001b[39m.\u001b[39mdevice(\u001b[39m'\u001b[39m\u001b[39mcuda\u001b[39m\u001b[39m'\u001b[39m), torch\u001b[39m.\u001b[39mdevice(\u001b[39m'\u001b[39m\u001b[39mcuda: 1\u001b[39m\u001b[39m'\u001b[39m)\n",
      "\u001b[1;31mRuntimeError\u001b[0m: Expected one of cpu, cuda, xpu, mkldnn, opengl, opencl, ideep, hip, ve, ort, mlc, xla, lazy, vulkan, meta, hpu device type at start of device string: gpu"
     ]
    }
   ],
   "source": [
    "import torch\n",
    "from torch import nn\n",
    "\n",
    "torch.device('gpu'), torch.device('cuda'), torch.device('cuda: 1')"
   ]
  },
  {
   "cell_type": "code",
   "execution_count": null,
   "metadata": {},
   "outputs": [
    {
     "data": {
      "text/plain": [
       "1"
      ]
     },
     "execution_count": 18,
     "metadata": {},
     "output_type": "execute_result"
    }
   ],
   "source": [
    "torch.cuda.device_count()"
   ]
  },
  {
   "cell_type": "code",
   "execution_count": 13,
   "metadata": {},
   "outputs": [
    {
     "ename": "NameError",
     "evalue": "name 'npx' is not defined",
     "output_type": "error",
     "traceback": [
      "\u001b[1;31m---------------------------------------------------------------------------\u001b[0m",
      "\u001b[1;31mNameError\u001b[0m                                 Traceback (most recent call last)",
      "\u001b[1;32mc:\\Users\\Yanmin Zhang\\Desktop\\DeepLearning\\demo\\demo_003.ipynb Cell 19\u001b[0m in \u001b[0;36m<cell line: 10>\u001b[1;34m()\u001b[0m\n\u001b[0;32m      <a href='vscode-notebook-cell:/c%3A/Users/Yanmin%20Zhang/Desktop/DeepLearning/demo/demo_003.ipynb#ch0000018?line=6'>7</a>\u001b[0m     devices \u001b[39m=\u001b[39m [npx\u001b[39m.\u001b[39mgpu(i) \u001b[39mfor\u001b[39;00m i \u001b[39min\u001b[39;00m \u001b[39mrange\u001b[39m(npx\u001b[39m.\u001b[39mnum_gpus())]\n\u001b[0;32m      <a href='vscode-notebook-cell:/c%3A/Users/Yanmin%20Zhang/Desktop/DeepLearning/demo/demo_003.ipynb#ch0000018?line=7'>8</a>\u001b[0m     \u001b[39mreturn\u001b[39;00m devices \u001b[39mif\u001b[39;00m devices \u001b[39melse\u001b[39;00m [npx\u001b[39m.\u001b[39mcpu()]\n\u001b[1;32m---> <a href='vscode-notebook-cell:/c%3A/Users/Yanmin%20Zhang/Desktop/DeepLearning/demo/demo_003.ipynb#ch0000018?line=9'>10</a>\u001b[0m try_gpu(), try_gpu(\u001b[39m10\u001b[39m), try_all_gpus()\n",
      "\u001b[1;32mc:\\Users\\Yanmin Zhang\\Desktop\\DeepLearning\\demo\\demo_003.ipynb Cell 19\u001b[0m in \u001b[0;36mtry_gpu\u001b[1;34m(i)\u001b[0m\n\u001b[0;32m      <a href='vscode-notebook-cell:/c%3A/Users/Yanmin%20Zhang/Desktop/DeepLearning/demo/demo_003.ipynb#ch0000018?line=0'>1</a>\u001b[0m \u001b[39mdef\u001b[39;00m \u001b[39mtry_gpu\u001b[39m(i\u001b[39m=\u001b[39m\u001b[39m0\u001b[39m):  \u001b[39m#@save\u001b[39;00m\n\u001b[0;32m      <a href='vscode-notebook-cell:/c%3A/Users/Yanmin%20Zhang/Desktop/DeepLearning/demo/demo_003.ipynb#ch0000018?line=1'>2</a>\u001b[0m     \u001b[39m\"\"\"如果存在，则返回gpu(i)，否则返回cpu()\"\"\"\u001b[39;00m\n\u001b[1;32m----> <a href='vscode-notebook-cell:/c%3A/Users/Yanmin%20Zhang/Desktop/DeepLearning/demo/demo_003.ipynb#ch0000018?line=2'>3</a>\u001b[0m     \u001b[39mreturn\u001b[39;00m npx\u001b[39m.\u001b[39mgpu(i) \u001b[39mif\u001b[39;00m npx\u001b[39m.\u001b[39mnum_gpus() \u001b[39m>\u001b[39m\u001b[39m=\u001b[39m i \u001b[39m+\u001b[39m \u001b[39m1\u001b[39m \u001b[39melse\u001b[39;00m npx\u001b[39m.\u001b[39mcpu()\n",
      "\u001b[1;31mNameError\u001b[0m: name 'npx' is not defined"
     ]
    }
   ],
   "source": [
    "def try_gpu(i=0):  #@save\n",
    "    \"\"\"如果存在，则返回gpu(i)，否则返回cpu()\"\"\"\n",
    "    return npx.gpu(i) if npx.num_gpus() >= i + 1 else npx.cpu()\n",
    "\n",
    "def try_all_gpus():  #@save\n",
    "    \"\"\"返回所有可用的GPU，如果没有GPU，则返回[cpu()]\"\"\"\n",
    "    devices = [npx.gpu(i) for i in range(npx.num_gpus())]\n",
    "    return devices if devices else [npx.cpu()]\n",
    "\n",
    "try_gpu(), try_gpu(10), try_all_gpus()"
   ]
  },
  {
   "cell_type": "code",
   "execution_count": 14,
   "metadata": {},
   "outputs": [
    {
     "ename": "NameError",
     "evalue": "name 'npx' is not defined",
     "output_type": "error",
     "traceback": [
      "\u001b[1;31m---------------------------------------------------------------------------\u001b[0m",
      "\u001b[1;31mNameError\u001b[0m                                 Traceback (most recent call last)",
      "\u001b[1;32mc:\\Users\\Yanmin Zhang\\Desktop\\DeepLearning\\demo\\demo_003.ipynb Cell 20\u001b[0m in \u001b[0;36m<cell line: 3>\u001b[1;34m()\u001b[0m\n\u001b[0;32m      <a href='vscode-notebook-cell:/c%3A/Users/Yanmin%20Zhang/Desktop/DeepLearning/demo/demo_003.ipynb#ch0000019?line=0'>1</a>\u001b[0m \u001b[39m#存储在GPU\u001b[39;00m\n\u001b[0;32m      <a href='vscode-notebook-cell:/c%3A/Users/Yanmin%20Zhang/Desktop/DeepLearning/demo/demo_003.ipynb#ch0000019?line=1'>2</a>\u001b[0m \u001b[39mimport\u001b[39;00m \u001b[39mnumpy\u001b[39;00m \u001b[39mas\u001b[39;00m \u001b[39mnp\u001b[39;00m\n\u001b[1;32m----> <a href='vscode-notebook-cell:/c%3A/Users/Yanmin%20Zhang/Desktop/DeepLearning/demo/demo_003.ipynb#ch0000019?line=2'>3</a>\u001b[0m X\u001b[39m=\u001b[39mnp\u001b[39m.\u001b[39mones((\u001b[39m2\u001b[39m, \u001b[39m3\u001b[39m), ctx\u001b[39m=\u001b[39mtry_gpu())\n",
      "\u001b[1;32mc:\\Users\\Yanmin Zhang\\Desktop\\DeepLearning\\demo\\demo_003.ipynb Cell 20\u001b[0m in \u001b[0;36mtry_gpu\u001b[1;34m(i)\u001b[0m\n\u001b[0;32m      <a href='vscode-notebook-cell:/c%3A/Users/Yanmin%20Zhang/Desktop/DeepLearning/demo/demo_003.ipynb#ch0000019?line=0'>1</a>\u001b[0m \u001b[39mdef\u001b[39;00m \u001b[39mtry_gpu\u001b[39m(i\u001b[39m=\u001b[39m\u001b[39m0\u001b[39m):  \u001b[39m#@save\u001b[39;00m\n\u001b[0;32m      <a href='vscode-notebook-cell:/c%3A/Users/Yanmin%20Zhang/Desktop/DeepLearning/demo/demo_003.ipynb#ch0000019?line=1'>2</a>\u001b[0m     \u001b[39m\"\"\"如果存在，则返回gpu(i)，否则返回cpu()\"\"\"\u001b[39;00m\n\u001b[1;32m----> <a href='vscode-notebook-cell:/c%3A/Users/Yanmin%20Zhang/Desktop/DeepLearning/demo/demo_003.ipynb#ch0000019?line=2'>3</a>\u001b[0m     \u001b[39mreturn\u001b[39;00m npx\u001b[39m.\u001b[39mgpu(i) \u001b[39mif\u001b[39;00m npx\u001b[39m.\u001b[39mnum_gpus() \u001b[39m>\u001b[39m\u001b[39m=\u001b[39m i \u001b[39m+\u001b[39m \u001b[39m1\u001b[39m \u001b[39melse\u001b[39;00m npx\u001b[39m.\u001b[39mcpu()\n",
      "\u001b[1;31mNameError\u001b[0m: name 'npx' is not defined"
     ]
    }
   ],
   "source": [
    "#存储在GPU\n",
    "import numpy as np\n",
    "X=np.ones((2, 3), ctx=try_gpu())"
   ]
  }
 ],
 "metadata": {
  "kernelspec": {
   "display_name": "Python 3.8.13 ('Xiaoyao')",
   "language": "python",
   "name": "python3"
  },
  "language_info": {
   "codemirror_mode": {
    "name": "ipython",
    "version": 3
   },
   "file_extension": ".py",
   "mimetype": "text/x-python",
   "name": "python",
   "nbconvert_exporter": "python",
   "pygments_lexer": "ipython3",
   "version": "3.8.13"
  },
  "orig_nbformat": 4,
  "vscode": {
   "interpreter": {
    "hash": "bcdebb4970db76957bcf11e05672910c0fd8b516a13077c2765e7d5e9fe92ba7"
   }
  }
 },
 "nbformat": 4,
 "nbformat_minor": 2
}
